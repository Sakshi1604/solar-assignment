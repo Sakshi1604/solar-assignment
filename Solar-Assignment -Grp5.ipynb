{
 "cells": [
  {
   "cell_type": "code",
   "execution_count": 43,
   "id": "5d7cfcfd",
   "metadata": {},
   "outputs": [],
   "source": [
    "import numpy as np\n",
    "import pandas as pd\n",
    "\n",
    "from matplotlib import pyplot as plt\n",
    "import math"
   ]
  },
  {
   "cell_type": "code",
   "execution_count": 47,
   "id": "8a5b995c",
   "metadata": {},
   "outputs": [
    {
     "name": "stdout",
     "output_type": "stream",
     "text": [
      "length of collector(m) : 1.6\n",
      "breadth of collector(m) : 1.1\n",
      "Tube centre-to-centre distance(m) : 0.12\n",
      "Outer Diameter of tube(m): 0.018\n",
      "Inner Diameter of tube(m): 0.014\n",
      "Thermal conductivity of plate (W/mC) : 35\n",
      "length of Plate(m) : 1.5\n",
      "width of plate (m) : 1\n",
      "plate to cover spacing (m) : 0.025\n",
      "between cover spacing (m) : 0.025\n",
      "plate thickness (m) : 0.0013\n",
      "Plate emissivity: 0.95\n",
      "glass cover emissivity: 0.88\n",
      "enter plate absorptivity : 0.95\n",
      "water flow rate (kg/h) : 70\n",
      "fluid to tube heat transfer coefficient (W/m^2-C): 205\n",
      " Back insulation thickness (m ) : 0.05\n",
      "Insulation themal conductivity (W/m-C ) : 0.04\n",
      " Ambient temp ( celsius) : 25\n"
     ]
    }
   ],
   "source": [
    "# constants\n",
    "\n",
    "#S=600.4     #Incident_Flux (W/m^2)\n",
    "l=float(input(\"length of collector(m) : \"))\n",
    "br=float(input(\"breadth of collector(m) : \"))\n",
    "#W = 0.12    #Centre dist (m)\n",
    "W=float(input(\"Tube centre-to-centre distance(m) : \"))\n",
    "\n",
    "#D = 0.018   #Output dia. (m)\n",
    "D=float(input(\"Outer Diameter of tube(m): \"))\n",
    "Di=float(input(\"Inner Diameter of tube(m): \"))\n",
    "\n",
    "\n",
    "#k = 35      # thermal conductivity ( W/mC)\n",
    "k=float(input(\"Thermal conductivity of plate (W/mC) : \"))\n",
    "\n",
    "#t_p =1.3e-3 # plate thickness (mm)\n",
    "l_p=float(input(\"length of Plate(m) : \"))\n",
    "b_p=float(input(\"width of plate (m) : \"))\n",
    "A=l_p*b_p\n",
    "\n",
    "l_pc1=float(input(\"plate to cover spacing (m) : \"))\n",
    "l_c1c2=float(input(\"between cover spacing (m) : \"))\n",
    "t_p=float(input(\"plate thickness (m) : \"))\n",
    "\n",
    "\n",
    "U = 4.0     # Overall resistance ( W /m^2C)\n",
    "\n",
    "Ep=float(input(\"Plate emissivity: \"))\n",
    "Ec=float(input(\"glass cover emissivity: \"))\n",
    "\n",
    "alpha=float(input(\"enter plate absorptivity : \"))\n",
    "\n",
    "\n",
    "#m =  70     # mass flow rate (kg/s)\n",
    "m=float(input(\"water flow rate (kg/h) : \"))\n",
    "Cp=4180\n",
    "hf=float(input(\"fluid to tube heat transfer coefficient (W/m^2-C): \"))\n",
    "back_th=float(input(\" Back insulation thickness (m ) : \"))\n",
    "ki=float(input(\"Insulation themal conductivity (W/m-C ) : \"))\n",
    "\n",
    "wind_speed=float(input(\"wind speed: \"))\n",
    "T_fi = 40   # fluid inlet temp (celsius)\n",
    "Ta =float(input(\" Ambient temp ( celsius) : \"))\n",
    "T_a=Ta+273.16"
   ]
  },
  {
   "cell_type": "code",
   "execution_count": 48,
   "id": "8559c8b7",
   "metadata": {},
   "outputs": [
    {
     "name": "stdout",
     "output_type": "stream",
     "text": [
      "Enter month : may\n",
      "Enter day : 15\n",
      "135\n",
      "0.3279808334469979\n"
     ]
    }
   ],
   "source": [
    "Month={\"january\":0,\"february\":31,\"march\":59,\"april\":90,\"may\":120,\"june\":51,\"july\":181,\"august\":212,\"september\":243,\"october\":273,\"november\":304,\"december\":334}\n",
    "\n",
    "month=input(\"Enter month : \").lower()\n",
    "day=int(input(\"Enter day : \"))\n",
    "n=Month[month]+day\n",
    "print(n)\n",
    "thita=360*(284+n)/365\n",
    "delta=math.radians(23.45*math.sin(math.radians(thita)))\n",
    "print(delta)"
   ]
  },
  {
   "cell_type": "code",
   "execution_count": 49,
   "id": "d5b51fef",
   "metadata": {},
   "outputs": [
    {
     "name": "stdout",
     "output_type": "stream",
     "text": [
      " Enter latitude degree : 18\n",
      "Enter latitude minutes : 32\n"
     ]
    }
   ],
   "source": [
    "\n",
    "L_degree=int(input(\" Enter latitude degree : \"))\n",
    "L_min=int(input(\"Enter latitude minutes : \"))\n",
    "latitude=L_degree+(L_min/60)\n",
    "latitude_angle=math.radians(L_degree+(L_min/60))\n",
    "\n",
    "\n"
   ]
  },
  {
   "cell_type": "code",
   "execution_count": 50,
   "id": "4e56cc23",
   "metadata": {},
   "outputs": [
    {
     "name": "stdout",
     "output_type": "stream",
     "text": [
      " Enter longitude degree : 73\n",
      "Enter longitude minutes : 51\n",
      "enter time(IST): 11\n"
     ]
    }
   ],
   "source": [
    "Lo_degree=int(input(\" Enter longitude degree : \"))\n",
    "Lo_min=int(input(\"Enter longitude minutes : \"))\n",
    "time=float(input(\"enter time(IST): \"))\n",
    "LAT=60-round(4*(82.5-(Lo_degree+(Lo_min/60))))\n",
    "hour_angle= math.radians(((12-(time-1))*60-LAT)*15/60)\n"
   ]
  },
  {
   "cell_type": "code",
   "execution_count": 51,
   "id": "b6420b0e",
   "metadata": {},
   "outputs": [
    {
     "name": "stdout",
     "output_type": "stream",
     "text": [
      "enter beam radiation : 665\n",
      "enter diffused radiation: 230\n"
     ]
    }
   ],
   "source": [
    "c_thita=math.sin(delta)*0+math.cos(delta)*math.cos(0)*math.cos(hour_angle)\n",
    "rb=c_thita/(math.sin(delta)*math.sin(latitude_angle)+math.cos(delta)*math.cos(latitude_angle)*math.cos(hour_angle))\n",
    "rd=(1+math.cos(latitude_angle))/2\n",
    "rr=0.2*(1-math.cos(latitude_angle))/2\n",
    "\n",
    "Ib=float(input(\"enter beam radiation : \"))\n",
    "Id=float(input(\"enter diffused radiation: \"))\n",
    "I_t=Ib*rb+Id*rd+(Id+Ib)*rr\n",
    "  \n",
    "\n",
    "    \n",
    "    \n",
    "    \n",
    "    \n",
    "    \n",
    "    \n",
    "\n",
    "\n",
    "\n",
    "         \n",
    "         \n",
    "         "
   ]
  },
  {
   "cell_type": "code",
   "execution_count": 52,
   "id": "22bd7fde",
   "metadata": {},
   "outputs": [
    {
     "name": "stdout",
     "output_type": "stream",
     "text": [
      "29.958400843279673\n"
     ]
    }
   ],
   "source": [
    "incident=math.acos(c_thita)\n",
    "print(incident*180/3.14)\n",
    "refraction1=math.asin(math.sin(incident)/1.56)"
   ]
  },
  {
   "cell_type": "code",
   "execution_count": 53,
   "id": "ef35e4ed",
   "metadata": {},
   "outputs": [
    {
     "name": "stdout",
     "output_type": "stream",
     "text": [
      "0.7141355602185387 0.6420242630947328\n"
     ]
    }
   ],
   "source": [
    "\n",
    "rp=(math.sin(incident-refraction1))**2/(math.sin(incident+refraction1))**2\n",
    "rh=(math.tan(incident-refraction1))**2/(math.tan(incident+refraction1))**2\n",
    "Trp=(1-rp)/(1+(3*rp))\n",
    "Trh=(1-rh)/(1+(3*rh))\n",
    "Tr=0.5*(Trp+Trh)\n",
    "Ta=math.exp(-0.0524*2/math.cos(refraction1))\n",
    "T=Tr*Ta\n",
    "T_alpha_b=T*alpha/(1-(1-alpha)*0.22)\n",
    "\n",
    "rp1=(math.sin(1.0466-0.60323))**2/(math.sin(1.0466+0.60323))**2\n",
    "rh1=(math.tan(1.0466-0.60323))**2/(math.tan(1.0466+0.60323))**2\n",
    "Trp1=(1-rp1)/(1+(3*rp1))\n",
    "Trh1=(1-rh1)/(1+(3*rh1))\n",
    "Tr1=0.5*(Trp1+Trh1)\n",
    "Ta1=math.exp(-0.0524*2/math.cos(0.60323))\n",
    "T1=Tr1*Ta1\n",
    "T_alpha_d=T1*alpha/(1-(1-alpha)*0.22)\n",
    "\n",
    "print(T_alpha_b,T_alpha_d)\n"
   ]
  },
  {
   "cell_type": "code",
   "execution_count": 54,
   "id": "c1aeee60",
   "metadata": {},
   "outputs": [
    {
     "data": {
      "text/plain": [
       "589.2072070528211"
      ]
     },
     "execution_count": 54,
     "metadata": {},
     "output_type": "execute_result"
    }
   ],
   "source": [
    "S=(Ib*rb*T_alpha_b)+(Id*rd*T_alpha_d)\n",
    "S"
   ]
  },
  {
   "cell_type": "code",
   "execution_count": 69,
   "id": "62791bbb",
   "metadata": {},
   "outputs": [],
   "source": [
    "#Calculation part\n",
    "\n",
    "def plate_temp(U,T_fi):\n",
    "    \n",
    "    m_ = (U/(k*t_p))**(0.5)                                            # m^-1\n",
    "\n",
    "    effectiveness = (np.tanh(m_*(W-D)/2))/(m_*(W-D)/2)\n",
    "\n",
    "\n",
    "#Finding collector efficiency factor (F')  \n",
    "\n",
    "    F_ = (W*U*((1/(U*((W-D)*effectiveness+D)))+(1/(Di*3.14*hf))))**(-1)\n",
    "    part=m*Cp/A\n",
    "    F_R = (part/U)*(1-np.exp(-(U*F_ /part)))                       # Heat removal factor\n",
    "\n",
    "\n",
    "    heat_gain = F_R * A *( S - U*(T_fi - Ta))\n",
    "\n",
    "\n",
    "    heat_loss = S*A - heat_gain \n",
    "\n",
    "\n",
    "    T_pm = (heat_loss/(U*A)) + Ta\n",
    "\n",
    "\n",
    "    T_pm += 273.16\n",
    "    return T_pm,heat_gain"
   ]
  },
  {
   "cell_type": "code",
   "execution_count": 62,
   "id": "bd1402b9",
   "metadata": {},
   "outputs": [
    {
     "data": {
      "text/html": [
       "<div>\n",
       "<style scoped>\n",
       "    .dataframe tbody tr th:only-of-type {\n",
       "        vertical-align: middle;\n",
       "    }\n",
       "\n",
       "    .dataframe tbody tr th {\n",
       "        vertical-align: top;\n",
       "    }\n",
       "\n",
       "    .dataframe thead th {\n",
       "        text-align: right;\n",
       "    }\n",
       "</style>\n",
       "<table border=\"1\" class=\"dataframe\">\n",
       "  <thead>\n",
       "    <tr style=\"text-align: right;\">\n",
       "      <th></th>\n",
       "      <th>Temperature</th>\n",
       "      <th>viscosity</th>\n",
       "      <th>Pr</th>\n",
       "      <th>t_conductivity</th>\n",
       "    </tr>\n",
       "  </thead>\n",
       "  <tbody>\n",
       "    <tr>\n",
       "      <th>0</th>\n",
       "      <td>10</td>\n",
       "      <td>0.000014</td>\n",
       "      <td>0.7050</td>\n",
       "      <td>0.025120</td>\n",
       "    </tr>\n",
       "    <tr>\n",
       "      <th>1</th>\n",
       "      <td>11</td>\n",
       "      <td>0.000014</td>\n",
       "      <td>0.7048</td>\n",
       "      <td>0.025201</td>\n",
       "    </tr>\n",
       "    <tr>\n",
       "      <th>2</th>\n",
       "      <td>12</td>\n",
       "      <td>0.000014</td>\n",
       "      <td>0.7046</td>\n",
       "      <td>0.025282</td>\n",
       "    </tr>\n",
       "    <tr>\n",
       "      <th>3</th>\n",
       "      <td>13</td>\n",
       "      <td>0.000014</td>\n",
       "      <td>0.7044</td>\n",
       "      <td>0.025363</td>\n",
       "    </tr>\n",
       "    <tr>\n",
       "      <th>4</th>\n",
       "      <td>14</td>\n",
       "      <td>0.000015</td>\n",
       "      <td>0.7042</td>\n",
       "      <td>0.025444</td>\n",
       "    </tr>\n",
       "  </tbody>\n",
       "</table>\n",
       "</div>"
      ],
      "text/plain": [
       "   Temperature   viscosity      Pr  t_conductivity\n",
       "0            10   0.000014  0.7050        0.025120\n",
       "1            11   0.000014  0.7048        0.025201\n",
       "2            12   0.000014  0.7046        0.025282\n",
       "3            13   0.000014  0.7044        0.025363\n",
       "4            14   0.000015  0.7042        0.025444"
      ]
     },
     "execution_count": 62,
     "metadata": {},
     "output_type": "execute_result"
    }
   ],
   "source": [
    "df=pd.read_excel('AIR_PROPERTIES.xlsx')\n",
    "df.head()"
   ]
  },
  {
   "cell_type": "code",
   "execution_count": 63,
   "id": "ceb5ae87",
   "metadata": {},
   "outputs": [
    {
     "data": {
      "text/plain": [
       "Index(['Temperature ', 'viscosity', 'Pr', 't_conductivity'], dtype='object')"
      ]
     },
     "execution_count": 63,
     "metadata": {},
     "output_type": "execute_result"
    }
   ],
   "source": [
    "df.columns"
   ]
  },
  {
   "cell_type": "code",
   "execution_count": 70,
   "id": "3108e568",
   "metadata": {},
   "outputs": [],
   "source": [
    "def convective(T_pm,T_c1,df,spacing):\n",
    "    T_mean = (T_pm + T_c1)/2\n",
    "    T_mean=round(T_mean-273.16)\n",
    "    \n",
    "    vis=df.loc[(df['Temperature ']==T_mean),'viscosity']\n",
    "    viscosity=vis.item()\n",
    "    \n",
    "    Pr=df[df['Temperature ']==T_mean]['Pr'].item()\n",
    "    t_conductivity=df[df['Temperature ']==T_mean]['t_conductivity'].item()\n",
    "\n",
    "    rayliegh = 9.81 * (T_mean**(-1)) *((T_pm- T_c1)* (spacing**(3))* Pr* math.cos(latitude_angle) / (viscosity**2))\n",
    "    nusselt = 0.229 * rayliegh**(0.252)\n",
    "\n",
    "    h_pc1 = nusselt* t_conductivity / spacing\n",
    "    return h_pc1\n",
    "\n",
    "\n"
   ]
  },
  {
   "cell_type": "code",
   "execution_count": 71,
   "id": "99ecba9f",
   "metadata": {},
   "outputs": [],
   "source": [
    "def prop(T_c2,T_a,df):\n",
    "    Tmean=round(((T_c2+T_a)/2)-273.16)\n",
    "    \n",
    "    \n",
    "    vis=df.loc[(df['Temperature ']==Tmean),'viscosity']\n",
    "    viscosity=vis.item()\n",
    "    \n",
    "    Pr=df[df['Temperature ']==Tmean]['Pr'].item()\n",
    "    t_conductivity=df[df['Temperature ']==Tmean]['t_conductivity'].item()\n",
    "    \n",
    "    return viscosity,Pr"
   ]
  },
  {
   "cell_type": "code",
   "execution_count": 72,
   "id": "1b5d9de3",
   "metadata": {},
   "outputs": [
    {
     "name": "stdout",
     "output_type": "stream",
     "text": [
      "wind speed: 3.1\n",
      "324.43957227612117\n",
      "333.39706985906037\n",
      "342.35456744199956\n",
      "351.31206502493876\n",
      "360.269562607878\n",
      "369.2270601908172\n",
      "378.1845577737564\n"
     ]
    }
   ],
   "source": [
    "lt=[]\n",
    "\n",
    "while(T_fi<=100):\n",
    "    # Calculating heat loss coeficient \n",
    "  \n",
    "    while(True):\n",
    "\n",
    "        T_sky = T_a - 6;\n",
    "    \n",
    "        T_pm,q_u=plate_temp(U,T_fi)\n",
    "        print(T_pm)\n",
    "\n",
    "        beta = 1/T_pm \n",
    "    \n",
    "        T_c1 =  T_pm-15\n",
    "        T_c2 = T_c1-15 \n",
    "        \n",
    "        while(True):\n",
    "        \n",
    "            h_pc1=convective(T_pm,T_c1,df,l_pc1)\n",
    "    \n",
    "            h_c1c2=convective(T_c1,T_c2,df,l_c1c2)\n",
    "    \n",
    "            hr_pc1=5.67e-8*(T_pm+T_c1)*((T_pm**2)+(T_c1**2))/((1/Ep)+(1/Ec)-1)\n",
    "            hr_c1c2=5.67e-8*(T_c2+T_c1)*((T_c2**2)+(T_c1**2))/((1/Ec)+(1/Ec)-1)\n",
    "            hr_c2a=5.67e-8*Ec*(T_c2**2-T_sky**2)*(T_c2**2+T_sky**2)/(T_c2-T_a)\n",
    "            viscosity,Pr=prop(T_c2,T_a,df)\n",
    "            Lc=4*l*br/(2*(l+br))\n",
    "            Rel=wind_speed*Lc/viscosity\n",
    "            j=0.86/(Rel**(0.5))\n",
    "            hw=j*1.15*1005*wind_speed/(Pr**(2/3))\n",
    "            R1=1/(h_pc1+hr_pc1)\n",
    "            R2=1/(h_c1c2+hr_c1c2)\n",
    "            R3=1/(hw+hr_c2a)\n",
    "            Ut=1/(R1+R2+R3)\n",
    "            \n",
    "            a=(T_pm-T_c1)/R1\n",
    "            b=(T_c1-T_c2)/R2\n",
    "            c=(T_c2-T_sky)/R3\n",
    "            diff=[abs(a-b),abs(b-c),abs(c-a)]\n",
    "            if(any(ele < 1 for ele in diff)):\n",
    "                break\n",
    "\n",
    "        \n",
    "            T_c1= T_pm-(Ut*(T_pm-T_a)*R1)\n",
    "         \n",
    "            T_c2= T_c1-(Ut*(T_pm-T_a)*R2)\n",
    "                    \n",
    "        \n",
    "        Ub=ki/back_th\n",
    "        Us=0.1*Ub\n",
    "        U_=Ut+Ub+Us\n",
    "    \n",
    "        if(abs(U_-U)< 2):\n",
    "            break\n",
    "            \n",
    "        U=U_\n",
    "    \n",
    "    T_fo=T_fi+(q_u*3600/(m*4180))\n",
    "    \n",
    "    efficiency=100*q_u/(I_t*l_p)   \n",
    "    \n",
    "    di={'Tfi(C)':T_fi,'Tpm(K)':T_pm,'Ut(W/m^2-K)':Ut,'qu(W)':q_u,'Tfo(C)':T_fo,'efficiency(%)':efficiency}\n",
    "    lt.append(di)\n",
    "    \n",
    "    T_fi=T_fi+10\n",
    "        \n",
    "        \n",
    "        \n",
    "    "
   ]
  },
  {
   "cell_type": "code",
   "execution_count": 73,
   "id": "cf054642",
   "metadata": {},
   "outputs": [
    {
     "data": {
      "text/html": [
       "<div>\n",
       "<style scoped>\n",
       "    .dataframe tbody tr th:only-of-type {\n",
       "        vertical-align: middle;\n",
       "    }\n",
       "\n",
       "    .dataframe tbody tr th {\n",
       "        vertical-align: top;\n",
       "    }\n",
       "\n",
       "    .dataframe thead th {\n",
       "        text-align: right;\n",
       "    }\n",
       "</style>\n",
       "<table border=\"1\" class=\"dataframe\">\n",
       "  <thead>\n",
       "    <tr style=\"text-align: right;\">\n",
       "      <th></th>\n",
       "      <th>Tfi(C)</th>\n",
       "      <th>Tpm(K)</th>\n",
       "      <th>Ut(W/m^2-K)</th>\n",
       "      <th>qu(W)</th>\n",
       "      <th>Tfo(C)</th>\n",
       "      <th>efficiency(%)</th>\n",
       "    </tr>\n",
       "  </thead>\n",
       "  <tbody>\n",
       "    <tr>\n",
       "      <th>0</th>\n",
       "      <td>40</td>\n",
       "      <td>324.439572</td>\n",
       "      <td>3.718248</td>\n",
       "      <td>581.505077</td>\n",
       "      <td>47.154540</td>\n",
       "      <td>45.483691</td>\n",
       "    </tr>\n",
       "    <tr>\n",
       "      <th>1</th>\n",
       "      <td>50</td>\n",
       "      <td>333.397070</td>\n",
       "      <td>4.052666</td>\n",
       "      <td>527.760092</td>\n",
       "      <td>56.493289</td>\n",
       "      <td>41.279910</td>\n",
       "    </tr>\n",
       "    <tr>\n",
       "      <th>2</th>\n",
       "      <td>60</td>\n",
       "      <td>342.354567</td>\n",
       "      <td>4.130023</td>\n",
       "      <td>474.015106</td>\n",
       "      <td>65.832038</td>\n",
       "      <td>37.076128</td>\n",
       "    </tr>\n",
       "    <tr>\n",
       "      <th>3</th>\n",
       "      <td>70</td>\n",
       "      <td>351.312065</td>\n",
       "      <td>4.217909</td>\n",
       "      <td>420.270121</td>\n",
       "      <td>75.170788</td>\n",
       "      <td>32.872347</td>\n",
       "    </tr>\n",
       "    <tr>\n",
       "      <th>4</th>\n",
       "      <td>80</td>\n",
       "      <td>360.269563</td>\n",
       "      <td>4.321966</td>\n",
       "      <td>366.525135</td>\n",
       "      <td>84.509537</td>\n",
       "      <td>28.668565</td>\n",
       "    </tr>\n",
       "    <tr>\n",
       "      <th>5</th>\n",
       "      <td>90</td>\n",
       "      <td>369.227060</td>\n",
       "      <td>4.422759</td>\n",
       "      <td>312.780150</td>\n",
       "      <td>93.848286</td>\n",
       "      <td>24.464784</td>\n",
       "    </tr>\n",
       "    <tr>\n",
       "      <th>6</th>\n",
       "      <td>100</td>\n",
       "      <td>378.184558</td>\n",
       "      <td>4.533096</td>\n",
       "      <td>259.035164</td>\n",
       "      <td>103.187036</td>\n",
       "      <td>20.261002</td>\n",
       "    </tr>\n",
       "  </tbody>\n",
       "</table>\n",
       "</div>"
      ],
      "text/plain": [
       "   Tfi(C)      Tpm(K)  Ut(W/m^2-K)       qu(W)      Tfo(C)  efficiency(%)\n",
       "0      40  324.439572     3.718248  581.505077   47.154540      45.483691\n",
       "1      50  333.397070     4.052666  527.760092   56.493289      41.279910\n",
       "2      60  342.354567     4.130023  474.015106   65.832038      37.076128\n",
       "3      70  351.312065     4.217909  420.270121   75.170788      32.872347\n",
       "4      80  360.269563     4.321966  366.525135   84.509537      28.668565\n",
       "5      90  369.227060     4.422759  312.780150   93.848286      24.464784\n",
       "6     100  378.184558     4.533096  259.035164  103.187036      20.261002"
      ]
     },
     "execution_count": 73,
     "metadata": {},
     "output_type": "execute_result"
    }
   ],
   "source": [
    "data=pd.DataFrame(lt)\n",
    "data"
   ]
  },
  {
   "cell_type": "code",
   "execution_count": 74,
   "id": "216027b5",
   "metadata": {},
   "outputs": [
    {
     "data": {
      "image/png": "[encoded data removed]",
      "text/plain": [
       "<Figure size 640x480 with 1 Axes>"
      ]
     },
     "metadata": {},
     "output_type": "display_data"
    }
   ],
   "source": [
    "\n",
    "x=data['Tfi(C)']\n",
    "y=data['efficiency(%)']\n",
    "plt.plot(x, y)\n",
    "  \n",
    "# naming the x axis\n",
    "plt.xlabel('Fluid Inlet Temperature')\n",
    "# naming the y axis\n",
    "plt.ylabel('Efficiency')\n",
    "  \n",
    "# giving a title to my graph\n",
    "plt.title('Variation of Efficiency with Inlet Temperature')\n",
    "  \n",
    "# function to show the plot\n",
    "plt.show()"
   ]
  },
  {
   "cell_type": "code",
   "execution_count": null,
   "id": "2bd2536e",
   "metadata": {},
   "outputs": [],
   "source": []
  },
  {
   "cell_type": "code",
   "execution_count": null,
   "id": "6580e29d",
   "metadata": {},
   "outputs": [],
   "source": [
    "\n",
    "    "
   ]
  }
 ],
 "metadata": {
  "kernelspec": {
   "display_name": "Python 3 (ipykernel)",
   "language": "python",
   "name": "python3"
  },
  "language_info": {
   "codemirror_mode": {
    "name": "ipython",
    "version": 3
   },
   "file_extension": ".py",
   "mimetype": "text/x-python",
   "name": "python",
   "nbconvert_exporter": "python",
   "pygments_lexer": "ipython3",
   "version": "3.9.13"
  }
 },
 "nbformat": 4,
 "nbformat_minor": 5
}
